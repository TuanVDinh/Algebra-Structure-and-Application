{
 "cells": [
  {
   "cell_type": "code",
   "execution_count": 119,
   "id": "9195bf64",
   "metadata": {},
   "outputs": [],
   "source": [
    "# Algebraic Structures and Applications\n",
    "# Assignments of week 2\n",
    "# Bai tap: Kiem soat he phuong trinh dong du \n",
    "# Tuan Van Dinh - Hanoi University of Science and Technology\n",
    "# 09.April.2022\n",
    "###########################################\n",
    "\n",
    "\"\"\"\n",
    "Given:\n",
    "    x ≡ a1 (mod m1)\n",
    "    x ≡ a2 (mod m2)\n",
    "    ...\n",
    "    x ≡ ak (mod mk)\n",
    "    gcd(mi, mj) = 1\n",
    "    \n",
    "    Find: x ≡ N (mod m1*m2*...*mk)\n",
    "    \n",
    "\"\"\"\n",
    "def gcd_heso(m, n):\n",
    "    \"\"\"\n",
    "    Ham tim cac so nguyen x, y thoa man: mx + ny = gcd(m,n)\n",
    "    Voi m, n la cac so nguyen khong am\n",
    "    \"\"\"\n",
    "    # Truong hop co ban\n",
    "    if n == 0 :\n",
    "        return m, 1, 0\n",
    "    \n",
    "    gcd, x1, y1 = gcd_heso(n, m%n)\n",
    "    \n",
    "    # Cap nhat x va y\n",
    "    x = y1\n",
    "    y = x1 - (m//n) * y1\n",
    "    \n",
    "    return gcd, x, y"
   ]
  },
  {
   "cell_type": "code",
   "execution_count": 120,
   "id": "41ea58bb",
   "metadata": {},
   "outputs": [],
   "source": [
    "import math\n",
    "def mul_inverse(num, mod):\n",
    "    \"\"\"\n",
    "    Inputs: \n",
    "        num: number that we have to find its multiplicative inverse\n",
    "        mod: modulo \n",
    "    Output: \n",
    "        multiplicative inverse of \"num\" mod \"mod\"\n",
    "    \"\"\"\n",
    "    _,_,y = gcd_heso(mod,num)\n",
    "    q = math.floor(y/mod)\n",
    "    inverse = y - q*mod\n",
    "    return inverse"
   ]
  },
  {
   "cell_type": "code",
   "execution_count": 121,
   "id": "fd0c7e36",
   "metadata": {},
   "outputs": [],
   "source": [
    "def find_n(a, mods):\n",
    "    \"\"\"\n",
    "    x = a1*m1*m1_inv + a2*m2*m2_inv + ... + ak*mk*mk_inv\n",
    "    x ≡ n (mod m1*m2*...*mk)\n",
    "    \n",
    "    \"\"\"\n",
    "    m = 1\n",
    "    x = 0\n",
    "    mi = []\n",
    "    mi_inv = []\n",
    "    for i in mods:\n",
    "        m *= i\n",
    "    for i in range(len(a)):\n",
    "        mi.append(m/mods[i])\n",
    "        inv = mul_inverse(mi[i], mods[i])\n",
    "        mi_inv.append(inv)\n",
    "        x += a[i]*mi[i]*mi_inv[i]\n",
    "        q = math.floor(x/m)\n",
    "        n = x - q*m\n",
    "    return n, m"
   ]
  },
  {
   "cell_type": "code",
   "execution_count": 122,
   "id": "9a15025b",
   "metadata": {},
   "outputs": [],
   "source": [
    "def print_result(a, mods):\n",
    "    (n, m) = find_n(a, mods)\n",
    "    print(f\"x ≡ {n} (mod {m})\")"
   ]
  },
  {
   "cell_type": "code",
   "execution_count": 128,
   "id": "b2fc9146",
   "metadata": {},
   "outputs": [
    {
     "name": "stdout",
     "output_type": "stream",
     "text": [
      "x ≡ 2619.0 (mod 6882)\n"
     ]
    }
   ],
   "source": [
    "# Test \n",
    "a = [15, 29] # a = [a1, a2,..., ak]\n",
    "mods = [93, 74] # mods = [m1, m2,..., mk]\n",
    "print_result(a, mods)"
   ]
  },
  {
   "cell_type": "code",
   "execution_count": 124,
   "id": "8f2d4024",
   "metadata": {},
   "outputs": [
    {
     "name": "stdout",
     "output_type": "stream",
     "text": [
      "x ≡ 23.0 (mod 105)\n"
     ]
    }
   ],
   "source": [
    "# Test \n",
    "a = [2, 3, 2]\n",
    "mods = [3, 5, 7]\n",
    "print_result(a, mods)"
   ]
  },
  {
   "cell_type": "code",
   "execution_count": 125,
   "id": "c733a131",
   "metadata": {},
   "outputs": [
    {
     "name": "stdout",
     "output_type": "stream",
     "text": [
      "x ≡ 34.0 (mod 60)\n"
     ]
    }
   ],
   "source": [
    "# Test \n",
    "a = [1, 2, 4]\n",
    "mods = [3, 4, 5]\n",
    "print_result(a, mods)"
   ]
  },
  {
   "cell_type": "code",
   "execution_count": 126,
   "id": "60d9c9fe",
   "metadata": {},
   "outputs": [
    {
     "name": "stdout",
     "output_type": "stream",
     "text": [
      "x ≡ 8.0 (mod 210)\n"
     ]
    }
   ],
   "source": [
    "# Test \n",
    "a = [3, 2, 1]\n",
    "mods = [5, 6, 7]\n",
    "print_result(a, mods)"
   ]
  },
  {
   "cell_type": "code",
   "execution_count": 127,
   "id": "8b3ed6f1",
   "metadata": {},
   "outputs": [
    {
     "name": "stdout",
     "output_type": "stream",
     "text": [
      "x ≡ 1866.0 (mod 2340)\n"
     ]
    }
   ],
   "source": [
    "# Test \n",
    "a = [2, 1, 3, 7]\n",
    "mods = [4, 5, 9, 13]\n",
    "print_result(a, mods)"
   ]
  },
  {
   "cell_type": "code",
   "execution_count": null,
   "id": "8a06b6f4",
   "metadata": {},
   "outputs": [],
   "source": []
  }
 ],
 "metadata": {
  "kernelspec": {
   "display_name": "Python 3",
   "language": "python",
   "name": "python3"
  },
  "language_info": {
   "codemirror_mode": {
    "name": "ipython",
    "version": 3
   },
   "file_extension": ".py",
   "mimetype": "text/x-python",
   "name": "python",
   "nbconvert_exporter": "python",
   "pygments_lexer": "ipython3",
   "version": "3.8.5"
  }
 },
 "nbformat": 4,
 "nbformat_minor": 5
}
