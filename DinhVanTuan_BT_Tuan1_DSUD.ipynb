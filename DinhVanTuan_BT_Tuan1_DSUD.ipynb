{
 "cells": [
  {
   "cell_type": "code",
   "execution_count": 2,
   "id": "da5856c4",
   "metadata": {},
   "outputs": [
    {
     "name": "stdout",
     "output_type": "stream",
     "text": [
      "UCLN(1276, 2248): 4\n"
     ]
    }
   ],
   "source": [
    "# Bai tap 1: Viet thuat toan Euclid tim UCLN gcd(m,n)\n",
    "# Voi m, n la cac so nguyen duong\n",
    "\n",
    "def gcd(m,n):\n",
    "    if n==0:\n",
    "        return m\n",
    "    else:\n",
    "        return gcd(n, m%n)\n",
    "\n",
    "# Test\n",
    "m, n = 1276, 2248\n",
    "gcd = gcd(1276,2248)\n",
    "print(f\"UCLN({m}, {n}): {gcd}\")"
   ]
  },
  {
   "cell_type": "code",
   "execution_count": 3,
   "id": "9195bf64",
   "metadata": {},
   "outputs": [
    {
     "name": "stdout",
     "output_type": "stream",
     "text": [
      "UCLN(1276, 2248): 4\n",
      "Cac he so: x = 37, y = -21\n"
     ]
    }
   ],
   "source": [
    "# Bai tap 2: Viet thuat toan tim cac so nguyen x, y thoa man: mx + ny = gcd(m,n)\n",
    "# Voi m, n la cac so nguyen khong am\n",
    "\n",
    "def gcd_heso(m, n):\n",
    "    # Truong hop co ban\n",
    "    if n == 0 :\n",
    "        return m, 1, 0\n",
    "    \n",
    "    gcd, x1, y1 = gcd_heso(n, m%n)\n",
    "    \n",
    "    # Cap nhat x va y\n",
    "    x = y1\n",
    "    y = x1 - (m//n) * y1\n",
    "    \n",
    "    return gcd, x, y\n",
    "\n",
    "# Test\n",
    "m, n = 1276, 2248\n",
    "gcd, x, y = gcd_heso(m, n)\n",
    "print(f\"UCLN({m}, {n}): {gcd}\")\n",
    "print(f\"Cac he so: x = {x}, y = {y}\")"
   ]
  },
  {
   "cell_type": "code",
   "execution_count": 4,
   "id": "076fd4af",
   "metadata": {},
   "outputs": [
    {
     "name": "stdout",
     "output_type": "stream",
     "text": [
      "16879594₁₀ = 1018FEA₁₆\n"
     ]
    }
   ],
   "source": [
    "# Bai tap 3: Viet thuat toan chuyen doi tu he co so 10 \n",
    "\n",
    "from math import log\n",
    "\n",
    "# Hàm tạo chỉ số dưới \n",
    "def subscript(x):\n",
    "    normal = \"0123456789\"\n",
    "    sub = \"₀₁₂₃₄₅₆₇₈₉\"\n",
    "    table = x.maketrans(''.join(normal), ''.join(sub))\n",
    "    return x.translate(table)\n",
    "\n",
    "# Hàm chuyển từ cơ số 10 sang hệ cơ số bất kỳ\n",
    "def chuyenTuCoSo10(num, base):\n",
    "    \n",
    "    \"\"\"\n",
    "    Ham chuyen doi tu he co so 10 sang he co so moi tu 2 den 36\n",
    "    \"\"\"\n",
    "    \n",
    "    # Chuyen moi so thanh ky tu tuong ung trong he co so moi\n",
    "    numToChar = {i:\"0123456789ABCDEFGHIJKLMNOPQRSTUVWXYZ\"[i] for i in range(36)}\n",
    "    # Tinh so mu lon nhat\n",
    "    power = int(log(num, base))\n",
    "    # Chuyen doi co so: converted_num la so can tim\n",
    "    converted_num = \"\"\n",
    "    for pow in range(power, -1, -1):\n",
    "        # Thuc hien phep chia lay thuong\n",
    "        converted_num += numToChar[num // (base ** pow)]\n",
    "        # Tinh phan du\n",
    "        num %= base**pow\n",
    "    # Return\n",
    "    return converted_num\n",
    "\n",
    "# Test\n",
    "num = 16879594\n",
    "base = 16\n",
    "converted_num = chuyenTuCoSo10(num, base)\n",
    "print(f\"{num}{subscript('10')} = {converted_num}{subscript(f'{base}')}\")\n"
   ]
  },
  {
   "cell_type": "code",
   "execution_count": 5,
   "id": "c8cc8c6c",
   "metadata": {},
   "outputs": [
    {
     "name": "stdout",
     "output_type": "stream",
     "text": [
      "123AB₁₆ = 74667₁₀\n"
     ]
    }
   ],
   "source": [
    "def getDecDigit(digit):\n",
    "    \n",
    "    charToNum = {\"0123456789ABCDEFGHIJKLMNOPQRSTUVWXYZ\"[i]:i for i in range(36)}\n",
    "    return charToNum[digit]\n",
    "\n",
    "# Hàm chuyển một số trong hệ cơ số bất kỳ từ 2 đến 36 sang hệ cơ số 10\n",
    "def chuyenSangCoSo10(num, base):\n",
    "    \n",
    "    \"\"\"\n",
    "    Hàm chuyển một số trong hệ cơ số bất kỳ từ 2 đến 36 sang hệ cơ số 10\n",
    "    \"\"\"\n",
    "    \n",
    "    decNum = 0\n",
    "    power = 0\n",
    "    for digit in range(len(num), 0, -1):\n",
    "        decNum = decNum + base ** power * getDecDigit(num[digit-1])\n",
    "        power += 1\n",
    "    return decNum\n",
    "\n",
    "# Test\n",
    "num, base = \"123AB\", 16\n",
    "converted_num = chuyenSangCoSo10(num, base)\n",
    "print(f\"{num}{subscript(f'{base}')} = {converted_num}{subscript('10')}\") "
   ]
  },
  {
   "cell_type": "code",
   "execution_count": 6,
   "id": "c703ef8e",
   "metadata": {},
   "outputs": [
    {
     "name": "stdout",
     "output_type": "stream",
     "text": [
      "16879594₁₀ = 1018FEA₁₆\n",
      "123ABEDTXS₃₆ = 11000011011101111101010110011010001001011010000₂\n"
     ]
    }
   ],
   "source": [
    "# Hàm chuyển một số trong hệ cơ số bất kỳ từ 2 đến 36 sang hệ cơ số bất kỳ cũng từ 2 đến 36\n",
    "def chuyenCoSo(num, fbase, tobase):\n",
    "    \"\"\"\n",
    "    num: số cần chuyển\n",
    "    fbase: hệ cơ số nguồn\n",
    "    tobase: hệ cơ số đích\n",
    "    \"\"\"\n",
    "    num1 = chuyenSangCoSo10(str(num), fbase)\n",
    "    converted_num = chuyenTuCoSo10(num1, tobase)\n",
    "    return converted_num\n",
    "    \n",
    "# Test \n",
    "num, fbase, tobase = 16879594, 10, 16 # Chuyển từ hệ cơ số 10 sang 16\n",
    "converted_num = chuyenCoSo(num, fbase, tobase)\n",
    "print(f\"{num}{subscript(f'{fbase}')} = {converted_num}{subscript(f'{tobase}')}\") \n",
    "\n",
    "num, fbase, tobase = \"123ABEDTXS\", 36, 2 # Chuyển từ hệ cơ số 36 sang 2\n",
    "converted_num = chuyenCoSo(num, fbase, tobase)\n",
    "print(f\"{num}{subscript(f'{fbase}')} = {converted_num}{subscript(f'{tobase}')}\") \n"
   ]
  },
  {
   "cell_type": "code",
   "execution_count": null,
   "id": "cb103e27",
   "metadata": {},
   "outputs": [],
   "source": []
  }
 ],
 "metadata": {
  "kernelspec": {
   "display_name": "Python 3",
   "language": "python",
   "name": "python3"
  },
  "language_info": {
   "codemirror_mode": {
    "name": "ipython",
    "version": 3
   },
   "file_extension": ".py",
   "mimetype": "text/x-python",
   "name": "python",
   "nbconvert_exporter": "python",
   "pygments_lexer": "ipython3",
   "version": "3.8.5"
  }
 },
 "nbformat": 4,
 "nbformat_minor": 5
}
